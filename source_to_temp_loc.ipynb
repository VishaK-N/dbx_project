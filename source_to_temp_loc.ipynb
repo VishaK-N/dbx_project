{
 "cells": [
  {
   "cell_type": "code",
   "execution_count": 0,
   "metadata": {
    "application/vnd.databricks.v1+cell": {
     "cellMetadata": {
      "byteLimit": 2048000,
      "rowLimit": 10000
     },
     "inputWidgets": {},
     "nuid": "93d8a2f6-ef68-4515-9ee9-73c4585bf071",
     "showTitle": false,
     "tableResultSettingsMap": {},
     "title": ""
    }
   },
   "outputs": [],
   "source": [
    "#  Defining the paths, these volumnes pointing towards the Data Lake container \n",
    "source_path = '/Volumes/autoloader_catalog/default/external_source/daily_order_files/'\n",
    "temp_loc_path = '/Volumes/autoloader_catalog/default/external_source/temp_location/'\n",
    "checkpoint_path = '/Volumes/autoloader_catalog/default/external_source/checkpoint/'"
   ]
  },
  {
   "cell_type": "code",
   "execution_count": 0,
   "metadata": {
    "application/vnd.databricks.v1+cell": {
     "cellMetadata": {
      "byteLimit": 2048000,
      "rowLimit": 10000
     },
     "inputWidgets": {},
     "nuid": "08908a00-fee7-4ea4-8fd2-819054473233",
     "showTitle": false,
     "tableResultSettingsMap": {},
     "title": ""
    }
   },
   "outputs": [],
   "source": [
    "# Reading the data from the Data Lake (source) using Auto Loader in streaming mode\n",
    "# readStream to enable the streaming mode\n",
    "df = spark.readStream.format('cloudFiles') \\\n",
    "               .option('cloudFiles.format', 'csv') \\\n",
    "               .option('cloudFiles.inferColumnTypes', True) \\\n",
    "               .option('cloudFiles.schemaLocation', checkpoint_path) \\\n",
    "               .option('quote', '\"') \\\n",
    "               .option('multiLine', True) \\\n",
    "               .option('header', True) \\\n",
    "               .load(source_path)\n",
    "\n"
   ]
  },
  {
   "cell_type": "code",
   "execution_count": 0,
   "metadata": {
    "application/vnd.databricks.v1+cell": {
     "cellMetadata": {
      "byteLimit": 2048000,
      "rowLimit": 10000
     },
     "inputWidgets": {},
     "nuid": "f3670c07-1986-4914-87e9-6a2d27edc778",
     "showTitle": false,
     "tableResultSettingsMap": {},
     "title": ""
    }
   },
   "outputs": [],
   "source": [
    "# writing the data to the Data Lake (temporary location)\n",
    "df.writeStream.format('csv') \\\n",
    "    .option('header', True) \\\n",
    "    .outputMode('append') \\\n",
    "    .trigger(once=True) \\\n",
    "    .option('checkpointLocation', checkpoint_path) \\\n",
    "    .start(temp_loc_path)\n",
    "\n"
   ]
  },
  {
   "cell_type": "code",
   "execution_count": 0,
   "metadata": {
    "application/vnd.databricks.v1+cell": {
     "cellMetadata": {
      "byteLimit": 2048000,
      "rowLimit": 10000
     },
     "inputWidgets": {},
     "nuid": "f5c265fa-8cae-42f6-83eb-cea7eb594801",
     "showTitle": false,
     "tableResultSettingsMap": {},
     "title": ""
    }
   },
   "outputs": [],
   "source": []
  }
 ],
 "metadata": {
  "application/vnd.databricks.v1+notebook": {
   "computePreferences": null,
   "dashboards": [],
   "environmentMetadata": {
    "base_environment": "",
    "environment_version": "2"
   },
   "inputWidgetPreferences": null,
   "language": "python",
   "notebookMetadata": {
    "pythonIndentUnit": 4
   },
   "notebookName": "source_to_temp_loc",
   "widgets": {}
  },
  "language_info": {
   "name": "python"
  }
 },
 "nbformat": 4,
 "nbformat_minor": 0
}
