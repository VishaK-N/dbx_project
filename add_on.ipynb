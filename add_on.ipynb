{
 "cells": [
  {
   "cell_type": "code",
   "execution_count": 0,
   "metadata": {
    "application/vnd.databricks.v1+cell": {
     "cellMetadata": {},
     "inputWidgets": {},
     "nuid": "1c649721-0a2d-4850-99e0-12a0442c0fb8",
     "showTitle": false,
     "tableResultSettingsMap": {},
     "title": ""
    }
   },
   "outputs": [],
   "source": [
    "# Moving the file from the temp_location to the archive folder\n",
    "\n",
    "files = dbutils.fs.ls(temp_loc_path)\n",
    "\n",
    "for file in files:\n",
    "    src_path = file.path\n",
    "\n",
    "    target_path = archive_path + src_path.split('/')[-1]\n",
    "\n",
    "    dbutils.fs.mv(src_path, target_path, recurse=True)"
   ]
  }
 ],
 "metadata": {
  "application/vnd.databricks.v1+notebook": {
   "computePreferences": null,
   "dashboards": [],
   "environmentMetadata": {
    "base_environment": "",
    "environment_version": "2"
   },
   "inputWidgetPreferences": null,
   "language": "python",
   "notebookMetadata": {
    "pythonIndentUnit": 4
   },
   "notebookName": "add_on",
   "widgets": {}
  },
  "language_info": {
   "name": "python"
  }
 },
 "nbformat": 4,
 "nbformat_minor": 0
}
