{
 "cells": [
  {
   "cell_type": "code",
   "execution_count": 0,
   "metadata": {
    "application/vnd.databricks.v1+cell": {
     "cellMetadata": {
      "byteLimit": 2048000,
      "rowLimit": 10000
     },
     "inputWidgets": {},
     "nuid": "70c12fd1-8cc3-468d-8f4d-cc33d308092a",
     "showTitle": false,
     "tableResultSettingsMap": {},
     "title": ""
    }
   },
   "outputs": [],
   "source": [
    "#  Defining the paths, these volumes pointing towards the Data Lake container(external location) \n",
    "stage_table = 'autoloader_catalog.orders_schema.orders_stage'\n",
    "archive_path = '/Volumes/autoloader_catalog/default/external_source/archived_files/'\n",
    "temp_loc_path = '/Volumes/autoloader_catalog/default/external_source/temp_location/'\n",
    "checkpoint_path = '/Volumes/autoloader_catalog/default/external_source/checkpoint/'"
   ]
  },
  {
   "cell_type": "code",
   "execution_count": 0,
   "metadata": {
    "application/vnd.databricks.v1+cell": {
     "cellMetadata": {
      "byteLimit": 2048000,
      "rowLimit": 10000
     },
     "inputWidgets": {},
     "nuid": "df423b53-8b42-4fc2-b041-08b93d95b50f",
     "showTitle": false,
     "tableResultSettingsMap": {},
     "title": ""
    }
   },
   "outputs": [],
   "source": [
    "# reading the data from the temp location\n",
    "df = spark.read.format('csv')\\\n",
    "        .option('inferSchema',True)\\\n",
    "        .option('header',True)\\\n",
    "        .load(temp_loc_path)"
   ]
  },
  {
   "cell_type": "code",
   "execution_count": 0,
   "metadata": {
    "application/vnd.databricks.v1+cell": {
     "cellMetadata": {
      "byteLimit": 2048000,
      "rowLimit": 10000
     },
     "inputWidgets": {},
     "nuid": "5c1cfe54-01b3-4e05-9ad7-86047c6686c1",
     "showTitle": false,
     "tableResultSettingsMap": {},
     "title": ""
    }
   },
   "outputs": [],
   "source": [
    "# writing (over writing) each time to the stage table (managed delta table) \n",
    "df.write.mode('overwrite')\\\n",
    "        .format('delta')\\\n",
    "        .option('header',True)\\\n",
    "        .option('overwriteSchema',True)\\\n",
    "        .saveAsTable(stage_table)\n",
    "\n",
    "# writing the data to the archive for the backup\n",
    "df.write.mode('append')\\\n",
    "        .format('csv')\\\n",
    "        .option('header',True)\\\n",
    "        .save(archive_path)\n"
   ]
  },
  {
   "cell_type": "code",
   "execution_count": 0,
   "metadata": {
    "application/vnd.databricks.v1+cell": {
     "cellMetadata": {
      "byteLimit": 2048000,
      "rowLimit": 10000
     },
     "inputWidgets": {},
     "nuid": "1bb719d3-4a10-4927-bb36-abb206702cf2",
     "showTitle": false,
     "tableResultSettingsMap": {},
     "title": ""
    }
   },
   "outputs": [],
   "source": [
    "# Deleting the current daily order data from the temp location\n",
    "files = dbutils.fs.ls('/Volumes/autoloader_catalog/default/external_source/temp_location/')\n",
    "\n",
    "for file in files:\n",
    "    dbutils.fs.rm(file.path, recurse=True)\n",
    "\n",
    "# Deleting the complete checkpoint details except the folder\n",
    "items = dbutils.fs.ls(checkpoint_path)\n",
    "\n",
    "for item in dbutils.fs.ls(checkpoint_path):\n",
    "    dbutils.fs.rm(item.path, recurse=True)\n",
    "\n",
    "# Deleting files in the daily orders from the current day\n",
    "dfiles = dbutils.fs.ls('/Volumes/autoloader_catalog/default/external_source/daily_order_files/')\n",
    "\n",
    "for file in dfiles:\n",
    "    dbutils.fs.rm(file.path, recurse=True)\n",
    "    "
   ]
  },
  {
   "cell_type": "markdown",
   "metadata": {
    "application/vnd.databricks.v1+cell": {
     "cellMetadata": {
      "byteLimit": 2048000,
      "rowLimit": 10000
     },
     "inputWidgets": {},
     "nuid": "3322197a-27fe-4d73-9c69-56d07090a331",
     "showTitle": false,
     "tableResultSettingsMap": {},
     "title": ""
    }
   },
   "source": [
    "##### for the fresh start deleting the data in the archive path\n",
    "a_files = dbutils.fs.ls(archive_path)\n",
    "\n",
    "for file in a_files:\n",
    "    dbutils.fs.rm(file.path, recurse=True)\n",
    "\n",
    "\n"
   ]
  },
  {
   "cell_type": "markdown",
   "metadata": {
    "application/vnd.databricks.v1+cell": {
     "cellMetadata": {
      "byteLimit": 2048000,
      "rowLimit": 10000
     },
     "inputWidgets": {},
     "nuid": "a0f1f8d3-d441-4df9-9930-b607189afe8d",
     "showTitle": false,
     "tableResultSettingsMap": {},
     "title": ""
    }
   },
   "source": []
  },
  {
   "cell_type": "markdown",
   "metadata": {
    "application/vnd.databricks.v1+cell": {
     "cellMetadata": {
      "byteLimit": 2048000,
      "rowLimit": 10000
     },
     "inputWidgets": {},
     "nuid": "06aaa5fe-77a4-4b45-8b89-2e57dfa5c1e1",
     "showTitle": false,
     "tableResultSettingsMap": {},
     "title": ""
    }
   },
   "source": [
    "\n",
    "\n",
    "\n",
    "\n",
    "\n",
    "\n"
   ]
  }
 ],
 "metadata": {
  "application/vnd.databricks.v1+notebook": {
   "computePreferences": null,
   "dashboards": [],
   "environmentMetadata": {
    "base_environment": "",
    "environment_version": "2"
   },
   "inputWidgetPreferences": null,
   "language": "python",
   "notebookMetadata": {
    "pythonIndentUnit": 4
   },
   "notebookName": "temp_loc_to_stage_table",
   "widgets": {}
  },
  "language_info": {
   "name": "python"
  }
 },
 "nbformat": 4,
 "nbformat_minor": 0
}
