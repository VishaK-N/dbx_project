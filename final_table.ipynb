{
 "cells": [
  {
   "cell_type": "code",
   "execution_count": 0,
   "metadata": {
    "application/vnd.databricks.v1+cell": {
     "cellMetadata": {
      "byteLimit": 2048000,
      "rowLimit": 10000
     },
     "inputWidgets": {},
     "nuid": "944810ea-bd70-4c2f-a9cc-2be65e50614f",
     "showTitle": false,
     "tableResultSettingsMap": {},
     "title": ""
    }
   },
   "outputs": [],
   "source": [
    "# defing the stage table, which pulls the data from the orders_stage table\n",
    "stage_table = 'autoloader_catalog.orders_schema.orders_stage'"
   ]
  },
  {
   "cell_type": "code",
   "execution_count": 0,
   "metadata": {
    "application/vnd.databricks.v1+cell": {
     "cellMetadata": {
      "byteLimit": 2048000,
      "rowLimit": 10000
     },
     "inputWidgets": {},
     "nuid": "dc4115da-98f4-4c66-97e6-6b461c1a450d",
     "showTitle": false,
     "tableResultSettingsMap": {},
     "title": ""
    }
   },
   "outputs": [],
   "source": [
    "# Reading the data from order stage table\n",
    "df = spark.read.table(stage_table)\n"
   ]
  },
  {
   "cell_type": "markdown",
   "metadata": {
    "application/vnd.databricks.v1+cell": {
     "cellMetadata": {
      "byteLimit": 2048000,
      "implicitDf": true,
      "rowLimit": 10000
     },
     "inputWidgets": {},
     "nuid": "eddc9c12-cb81-4815-9670-4172ae426888",
     "showTitle": false,
     "tableResultSettingsMap": {},
     "title": ""
    }
   },
   "source": [
    "#### creating the orders_final table\n",
    "CREATE TABLE IF NOT EXISTS dbx_catalog.orders_schema.orders_final(\n",
    "order_num INT,\n",
    "tracking_num STRING,\n",
    "pck_recieved_date DATE,\n",
    "package_deliver_date DATE,\n",
    "status STRING,\n",
    "address STRING,\n",
    "last_update_timestamp TIMESTAMP,\n",
    "_rescued_data STRING\n",
    ")"
   ]
  },
  {
   "cell_type": "markdown",
   "metadata": {
    "application/vnd.databricks.v1+cell": {
     "cellMetadata": {
      "byteLimit": 2048000,
      "implicitDf": true,
      "rowLimit": 10000
     },
     "inputWidgets": {},
     "nuid": "1df335d1-a2f5-4197-889a-ef1f5f2616f7",
     "showTitle": false,
     "tableResultSettingsMap": {},
     "title": ""
    }
   },
   "source": [
    "#### drop the table orders_final\n",
    "drop table dbx_catalog.orders_schema.orders_final"
   ]
  },
  {
   "cell_type": "code",
   "execution_count": 0,
   "metadata": {
    "application/vnd.databricks.v1+cell": {
     "cellMetadata": {
      "byteLimit": 2048000,
      "rowLimit": 10000
     },
     "inputWidgets": {},
     "nuid": "d1b5b05a-dcdb-4b2d-a085-9d096819a410",
     "showTitle": false,
     "tableResultSettingsMap": {},
     "title": ""
    }
   },
   "outputs": [],
   "source": [
    "# to enable sql operations on the dataframe\n",
    "df.createOrReplaceTempView('final_df')"
   ]
  },
  {
   "cell_type": "code",
   "execution_count": 0,
   "metadata": {
    "application/vnd.databricks.v1+cell": {
     "cellMetadata": {
      "byteLimit": 2048000,
      "implicitDf": true,
      "rowLimit": 10000
     },
     "inputWidgets": {},
     "nuid": "52e26f66-2d0e-4ff8-b3a1-82b246dd6437",
     "showTitle": false,
     "tableResultSettingsMap": {},
     "title": ""
    }
   },
   "outputs": [],
   "source": [
    "%sql\n",
    "MERGE INTO autoloader_catalog.orders_schema.orders_final AS target\n",
    "USING final_df AS stage\n",
    "ON stage.tracking_num = target.tracking_num -- if the condition matched, record will delete\n",
    "WHEN MATCHED THEN DELETE;\n",
    "\n",
    "INSERT INTO autoloader_catalog.orders_schema.orders_final  -- adding the updated and the new records \n",
    "SELECT * FROM final_df;\n"
   ]
  },
  {
   "cell_type": "markdown",
   "metadata": {
    "application/vnd.databricks.v1+cell": {
     "cellMetadata": {},
     "inputWidgets": {},
     "nuid": "48c7e5f3-561f-44c6-a4a5-2e935e89f6f4",
     "showTitle": false,
     "tableResultSettingsMap": {},
     "title": ""
    }
   },
   "source": [
    "if not spark._jsparkSession.catalog().tableExists(final_table):\n",
    "    df.write.format('delta').saveAsTable(final_table)\n",
    "\n",
    "else:\n",
    "    target_table = DeltaTable.forName(spark, final_table)\n",
    "    \n",
    "    merge_condition =\"stage.tracking_num = target.tracking_num\"\n",
    "\n",
    "    target_table.alias(\"target\").merge(\n",
    "        df.alias(\"stage\"),\n",
    "        merge_condition\n",
    "    ).whenMatchedDelete().execute()\n",
    "    \n",
    "    df.write.format('delta').mode('append').saveAsTable(final_table)"
   ]
  }
 ],
 "metadata": {
  "application/vnd.databricks.v1+notebook": {
   "computePreferences": null,
   "dashboards": [],
   "environmentMetadata": {
    "base_environment": "",
    "environment_version": "2"
   },
   "inputWidgetPreferences": null,
   "language": "python",
   "notebookMetadata": {
    "mostRecentlyExecutedCommandWithImplicitDF": {
     "commandId": 7220505801557105,
     "dataframes": [
      "_sqldf"
     ]
    },
    "pythonIndentUnit": 4
   },
   "notebookName": "final_table",
   "widgets": {}
  },
  "language_info": {
   "name": "python"
  }
 },
 "nbformat": 4,
 "nbformat_minor": 0
}
